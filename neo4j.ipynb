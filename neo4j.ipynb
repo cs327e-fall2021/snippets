{
 "cells": [
  {
   "cell_type": "markdown",
   "metadata": {},
   "source": [
    "### Code Lab: Create a graph of movies and actors and run some queries on this graph"
   ]
  },
  {
   "cell_type": "markdown",
   "metadata": {},
   "source": [
    "#### 1) Download the movie dataset from our GCS bucket:\n",
    "\n",
    "`gsutil cp gs://cs327e-open-access/movies.cypher.zip .`<br>\n",
    "`unzip movies.cypher.zip`"
   ]
  },
  {
   "cell_type": "markdown",
   "metadata": {},
   "source": [
    "#### 2) Change the PW variable below before running:"
   ]
  },
  {
   "cell_type": "code",
   "execution_count": null,
   "metadata": {},
   "outputs": [],
   "source": [
    "%env CYPHER=/home/jupyter/neo4j-community-4.3.3/bin/cypher-shell\n",
    "%env USER=neo4j\n",
    "%env PW=neo4j!"
   ]
  },
  {
   "cell_type": "code",
   "execution_count": null,
   "metadata": {},
   "outputs": [],
   "source": [
    "CONNECT=\"$CYPHER -u $USER -p $PW\""
   ]
  },
  {
   "cell_type": "code",
   "execution_count": null,
   "metadata": {},
   "outputs": [],
   "source": [
    "!{CONNECT} \"SHOW DATABASES\""
   ]
  },
  {
   "cell_type": "code",
   "execution_count": null,
   "metadata": {},
   "outputs": [],
   "source": [
    "!{CONNECT} \"MATCH (n) DETACH DELETE n\""
   ]
  },
  {
   "cell_type": "code",
   "execution_count": null,
   "metadata": {},
   "outputs": [],
   "source": [
    "!{CONNECT} \"MATCH (n) RETURN n\""
   ]
  },
  {
   "cell_type": "code",
   "execution_count": null,
   "metadata": {},
   "outputs": [],
   "source": [
    "!cat /home/jupyter/movies.cypher | {CONNECT} --format plain"
   ]
  },
  {
   "cell_type": "code",
   "execution_count": null,
   "metadata": {},
   "outputs": [],
   "source": [
    "!{CONNECT} \"MATCH (n) RETURN distinct labels(n), count(n)\""
   ]
  },
  {
   "cell_type": "code",
   "execution_count": null,
   "metadata": {},
   "outputs": [],
   "source": [
    "!{CONNECT} \"MATCH (n) RETURN n LIMIT 10\""
   ]
  },
  {
   "cell_type": "code",
   "execution_count": null,
   "metadata": {},
   "outputs": [],
   "source": [
    "!{CONNECT} \"MATCH ()-[r]->() RETURN type(r) LIMIT 10\""
   ]
  },
  {
   "cell_type": "code",
   "execution_count": null,
   "metadata": {},
   "outputs": [],
   "source": [
    "!{CONNECT} \"MATCH (m:Movie) RETURN m.title, m.released ORDER BY m.released LIMIT 10\""
   ]
  },
  {
   "cell_type": "code",
   "execution_count": null,
   "metadata": {},
   "outputs": [],
   "source": [
    "!{CONNECT} \"MATCH (m:Movie) WHERE m.released >= 1990 AND m.released <= 2000 RETURN m.title, m.released ORDER BY m.released\""
   ]
  },
  {
   "cell_type": "markdown",
   "metadata": {},
   "source": [
    "#### Note the double curly braces {}"
   ]
  },
  {
   "cell_type": "code",
   "execution_count": null,
   "metadata": {},
   "outputs": [],
   "source": [
    "!{CONNECT} \"MATCH (p:Person)-[r]->(m:Movie {{title: 'Jerry Maguire'}}) RETURN p, r LIMIT 20;\""
   ]
  },
  {
   "cell_type": "code",
   "execution_count": null,
   "metadata": {},
   "outputs": [],
   "source": [
    "!{CONNECT} \"MATCH (t:Person {{name: 'Tom Hanks'}})-[:ACTED_IN]->(m) RETURN m.title, m.released ORDER BY m.released\""
   ]
  },
  {
   "cell_type": "code",
   "execution_count": null,
   "metadata": {},
   "outputs": [],
   "source": [
    "!{CONNECT} \"MATCH (m {{title: 'Apollo 13'}})<-[:DIRECTED]-(d) RETURN d.name\""
   ]
  },
  {
   "cell_type": "code",
   "execution_count": null,
   "metadata": {},
   "outputs": [],
   "source": [
    "!{CONNECT} \"MATCH (p1:Person {{name:'Tom Hanks'}})-[:ACTED_IN]->(m)<-[:ACTED_IN]-(p2:Person) RETURN p2.name as coactor, m.title ORDER BY p2.name\""
   ]
  },
  {
   "cell_type": "code",
   "execution_count": null,
   "metadata": {},
   "outputs": [],
   "source": [
    "!{CONNECT} \"MATCH (p:Person)-[r]->(:Movie {{title: 'Jerry Maguire'}}) RETURN p.name, type(r), r.roles\""
   ]
  },
  {
   "cell_type": "code",
   "execution_count": null,
   "metadata": {},
   "outputs": [],
   "source": [
    "!{CONNECT} \"MATCH (p:Person)-[r:ACTED_IN]->(:Movie {{title: 'Jerry Maguire'}}) RETURN p.name, type(r), r.roles\""
   ]
  },
  {
   "cell_type": "code",
   "execution_count": null,
   "metadata": {},
   "outputs": [],
   "source": [
    "!{CONNECT} \"MATCH (p1:Person {{name: 'Kevin Bacon'}})-[r]->(m:Movie)<-[r2]-(p2:Person) RETURN m.title, type(r) as kb_role, p2.name, type(r2) LIMIT 20\""
   ]
  },
  {
   "cell_type": "code",
   "execution_count": null,
   "metadata": {},
   "outputs": [],
   "source": [
    "!{CONNECT} \"MATCH (p:Person {{name: 'Kevin Bacon'}})-[*1..4]-(kb_connections) RETURN DISTINCT kb_connections LIMIT 10\""
   ]
  },
  {
   "cell_type": "code",
   "execution_count": null,
   "metadata": {},
   "outputs": [],
   "source": [
    "!{CONNECT} \"MATCH p=shortestPath((bacon:Person {{name:'Kevin Bacon'}})-[*]-(keaton:Person {{name: 'Diane Keaton'}})) RETURN p\""
   ]
  },
  {
   "cell_type": "markdown",
   "metadata": {},
   "source": [
    "#### Unfortunately, the Community Edition doesn't let us create multiple databases. You'll need to delete the movie graph before creating a different graph in our database. To delete the graph, use this command:\n",
    "\n",
    "`!{CONNECT} \"MATCH (n) DETACH DELETE n\"`"
   ]
  },
  {
   "cell_type": "code",
   "execution_count": null,
   "metadata": {},
   "outputs": [],
   "source": [
    "!{CONNECT} \"MATCH (n) DETACH DELETE n\""
   ]
  },
  {
   "cell_type": "code",
   "execution_count": null,
   "metadata": {},
   "outputs": [],
   "source": [
    "!{CONNECT} \"MATCH (n) RETURN n\""
   ]
  },
  {
   "cell_type": "code",
   "execution_count": null,
   "metadata": {},
   "outputs": [],
   "source": []
  }
 ],
 "metadata": {
  "environment": {
   "name": "common-cpu.m78",
   "type": "gcloud",
   "uri": "gcr.io/deeplearning-platform-release/base-cpu:m78"
  },
  "kernelspec": {
   "display_name": "Python 3",
   "language": "python",
   "name": "python3"
  },
  "language_info": {
   "codemirror_mode": {
    "name": "ipython",
    "version": 3
   },
   "file_extension": ".py",
   "mimetype": "text/x-python",
   "name": "python",
   "nbconvert_exporter": "python",
   "pygments_lexer": "ipython3",
   "version": "3.7.10"
  }
 },
 "nbformat": 4,
 "nbformat_minor": 4
}

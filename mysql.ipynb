{
 "cells": [
  {
   "cell_type": "markdown",
   "id": "8d9e4f3b",
   "metadata": {},
   "source": [
    "### 1) Download dataset and create college database:"
   ]
  },
  {
   "cell_type": "code",
   "execution_count": null,
   "id": "9445164b",
   "metadata": {},
   "outputs": [],
   "source": [
    "%env INSTANCE=my"
   ]
  },
  {
   "cell_type": "code",
   "execution_count": null,
   "id": "85de373f",
   "metadata": {},
   "outputs": [],
   "source": [
    "!gsutil cp gs://cs327e-open-access/mysql_college.zip ."
   ]
  },
  {
   "cell_type": "code",
   "execution_count": null,
   "id": "c4335d9f",
   "metadata": {},
   "outputs": [],
   "source": [
    "!unzip mysql_college.zip"
   ]
  },
  {
   "cell_type": "code",
   "execution_count": null,
   "id": "675ebb56",
   "metadata": {},
   "outputs": [],
   "source": [
    "!mysql < /home/jupyter/snippets/create_tables.sql"
   ]
  },
  {
   "cell_type": "code",
   "execution_count": null,
   "id": "a9ba50ce",
   "metadata": {},
   "outputs": [],
   "source": [
    "!mysql college -e \"show tables\""
   ]
  },
  {
   "cell_type": "markdown",
   "id": "9faa5917",
   "metadata": {},
   "source": [
    "### 2) Describe each table:"
   ]
  },
  {
   "cell_type": "code",
   "execution_count": null,
   "id": "0423c59d",
   "metadata": {},
   "outputs": [],
   "source": [
    "!mysql college -e \"desc Class\""
   ]
  },
  {
   "cell_type": "code",
   "execution_count": null,
   "id": "e844b457",
   "metadata": {},
   "outputs": [],
   "source": [
    "!mysql college -e \"desc Instructor\""
   ]
  },
  {
   "cell_type": "code",
   "execution_count": null,
   "id": "2a2d7d2b",
   "metadata": {},
   "outputs": [],
   "source": [
    "!mysql college -e \"desc Student\""
   ]
  },
  {
   "cell_type": "code",
   "execution_count": null,
   "id": "442979e1",
   "metadata": {},
   "outputs": [],
   "source": [
    "!mysql college -e \"desc Teaches\""
   ]
  },
  {
   "cell_type": "markdown",
   "id": "8b9aa9fc",
   "metadata": {},
   "source": [
    "### 3) Import tables (Class, Student, Instructor, Teaches):"
   ]
  },
  {
   "cell_type": "code",
   "execution_count": null,
   "id": "f9514ed7",
   "metadata": {},
   "outputs": [],
   "source": [
    "!gcloud sql import csv $INSTANCE gs://cs327e-open-access/mysql_college/class.csv --database=college --table=Class --quiet"
   ]
  },
  {
   "cell_type": "code",
   "execution_count": null,
   "id": "b94ba484",
   "metadata": {},
   "outputs": [],
   "source": [
    "!gcloud sql import csv $INSTANCE gs://cs327e-open-access/mysql_college/instructor.csv --database=college --table=Instructor --quiet"
   ]
  },
  {
   "cell_type": "code",
   "execution_count": null,
   "id": "a18e505d",
   "metadata": {},
   "outputs": [],
   "source": [
    "!gcloud sql import csv $INSTANCE gs://cs327e-open-access/mysql_college/student.csv --database=college --table=Student --quiet"
   ]
  },
  {
   "cell_type": "code",
   "execution_count": null,
   "id": "f5d023d0",
   "metadata": {},
   "outputs": [],
   "source": [
    "!gcloud sql import csv $INSTANCE gs://cs327e-open-access/mysql_college/teaches.csv --database=college --table=Teaches --quiet"
   ]
  },
  {
   "cell_type": "markdown",
   "id": "cefa5c27",
   "metadata": {},
   "source": [
    "### 4) Check table record count:"
   ]
  },
  {
   "cell_type": "code",
   "execution_count": null,
   "id": "ab32a9ed",
   "metadata": {},
   "outputs": [],
   "source": [
    "!mysql college -e \"select count(*) from Class\""
   ]
  },
  {
   "cell_type": "code",
   "execution_count": null,
   "id": "8cbc436e",
   "metadata": {},
   "outputs": [],
   "source": [
    "!mysql college -e \"select count(*) from Student\""
   ]
  },
  {
   "cell_type": "code",
   "execution_count": null,
   "id": "96710217",
   "metadata": {},
   "outputs": [],
   "source": [
    "!mysql college -e \"select count(*) from Instructor\""
   ]
  },
  {
   "cell_type": "code",
   "execution_count": null,
   "id": "50b10a22",
   "metadata": {},
   "outputs": [],
   "source": [
    "!mysql college -e \"select count(*) from Teaches\""
   ]
  },
  {
   "cell_type": "markdown",
   "id": "71012beb",
   "metadata": {},
   "source": [
    "### 5) Sample records from each table: "
   ]
  },
  {
   "cell_type": "code",
   "execution_count": null,
   "id": "59a1e24e",
   "metadata": {},
   "outputs": [],
   "source": [
    "!mysql college -e \"select * from Student\""
   ]
  },
  {
   "cell_type": "code",
   "execution_count": null,
   "id": "d3463f3d",
   "metadata": {},
   "outputs": [],
   "source": [
    "!mysql college -e \"select * from Class order by sid\""
   ]
  },
  {
   "cell_type": "code",
   "execution_count": null,
   "id": "47af0cd2",
   "metadata": {},
   "outputs": [],
   "source": [
    "!mysql college -e \"select * from Instructor\""
   ]
  },
  {
   "cell_type": "code",
   "execution_count": null,
   "id": "b0935a6e",
   "metadata": {},
   "outputs": [],
   "source": [
    "!mysql college -e \"select * from Teaches\""
   ]
  },
  {
   "cell_type": "markdown",
   "id": "97479fd9",
   "metadata": {},
   "source": [
    "### Delete column header record from each table"
   ]
  },
  {
   "cell_type": "code",
   "execution_count": null,
   "id": "6c7d841a",
   "metadata": {},
   "outputs": [],
   "source": [
    "!mysql college -e \"delete from Teaches where tid = 'tid'\""
   ]
  },
  {
   "cell_type": "code",
   "execution_count": null,
   "id": "da5b2596",
   "metadata": {},
   "outputs": [],
   "source": [
    "!mysql college -e \"delete from Instructor where tid = 'tid'\""
   ]
  },
  {
   "cell_type": "code",
   "execution_count": null,
   "id": "d09bb237",
   "metadata": {},
   "outputs": [],
   "source": [
    "!mysql college -e \"delete from Class where sid = 'sid'\""
   ]
  },
  {
   "cell_type": "code",
   "execution_count": null,
   "id": "7a699828",
   "metadata": {},
   "outputs": [],
   "source": [
    "!mysql college -e \"delete from Student where sid = 'sid'\""
   ]
  },
  {
   "cell_type": "markdown",
   "id": "ac3e865d",
   "metadata": {},
   "source": [
    "### 6) Create Primary Keys"
   ]
  },
  {
   "cell_type": "code",
   "execution_count": null,
   "id": "e5c08762",
   "metadata": {},
   "outputs": [],
   "source": [
    "!mysql college -e \"alter table Student add primary key (sid)\""
   ]
  },
  {
   "cell_type": "code",
   "execution_count": null,
   "id": "ff6f6a88",
   "metadata": {},
   "outputs": [],
   "source": [
    "!mysql college -e \"alter table Instructor add primary key (tid)\""
   ]
  },
  {
   "cell_type": "code",
   "execution_count": null,
   "id": "7cd08a45",
   "metadata": {
    "jupyter": {
     "source_hidden": true
    }
   },
   "outputs": [],
   "source": [
    "!mysql college -e \"alter table Teaches add primary key (tid, cno)\""
   ]
  },
  {
   "cell_type": "code",
   "execution_count": null,
   "id": "cf85d1a9",
   "metadata": {},
   "outputs": [],
   "source": [
    "!mysql college -e \"desc Student\""
   ]
  },
  {
   "cell_type": "markdown",
   "id": "648dfce1",
   "metadata": {},
   "source": [
    "### 7) Create Foreign Key"
   ]
  },
  {
   "cell_type": "code",
   "execution_count": null,
   "id": "40e3cb9d",
   "metadata": {},
   "outputs": [],
   "source": [
    "!mysql college -e \"alter table Teaches add constraint foreign key (tid) references Instructor (tid)\""
   ]
  },
  {
   "cell_type": "code",
   "execution_count": null,
   "id": "13de1d45",
   "metadata": {},
   "outputs": [],
   "source": [
    "!mysql college -e \"show create table Teaches\""
   ]
  },
  {
   "cell_type": "markdown",
   "id": "788593f1",
   "metadata": {},
   "source": [
    "### 8) Test Foreign Key constraint on Teaches.tid"
   ]
  },
  {
   "cell_type": "code",
   "execution_count": null,
   "id": "edab4209",
   "metadata": {},
   "outputs": [],
   "source": [
    "!mysql college -e \"insert into Teaches (tid, cno) values ('norman', 'cs313')\""
   ]
  },
  {
   "cell_type": "code",
   "execution_count": null,
   "id": "11debd5d",
   "metadata": {},
   "outputs": [],
   "source": []
  }
 ],
 "metadata": {
  "environment": {
   "name": "common-cpu.m78",
   "type": "gcloud",
   "uri": "gcr.io/deeplearning-platform-release/base-cpu:m78"
  },
  "kernelspec": {
   "display_name": "Python 3",
   "language": "python",
   "name": "python3"
  },
  "language_info": {
   "codemirror_mode": {
    "name": "ipython",
    "version": 3
   },
   "file_extension": ".py",
   "mimetype": "text/x-python",
   "name": "python",
   "nbconvert_exporter": "python",
   "pygments_lexer": "ipython3",
   "version": "3.7.10"
  }
 },
 "nbformat": 4,
 "nbformat_minor": 5
}

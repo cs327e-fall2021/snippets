{
 "cells": [
  {
   "cell_type": "markdown",
   "metadata": {},
   "source": [
    "### Step 1. Download the MOMA dataset \n",
    "\n",
    "`gsutil cp gs://cs327e-open-access/moma.zip .`\n",
    "\n",
    "`unzip moma.zip`"
   ]
  },
  {
   "cell_type": "markdown",
   "metadata": {},
   "source": [
    "### Step 2. Import data into Mongo"
   ]
  },
  {
   "cell_type": "code",
   "execution_count": 1,
   "metadata": {},
   "outputs": [
    {
     "name": "stdout",
     "output_type": "stream",
     "text": [
      "2021-10-22T22:40:08.714+0000\tconnected to: mongodb://localhost/\n",
      "2021-10-22T22:40:09.054+0000\t15233 document(s) imported successfully. 0 document(s) failed to import.\n"
     ]
    }
   ],
   "source": [
    "!mongoimport --db moma --collection Artists < /home/jupyter/snippets/moma/Artists.json --jsonArray"
   ]
  },
  {
   "cell_type": "code",
   "execution_count": 2,
   "metadata": {},
   "outputs": [
    {
     "name": "stdout",
     "output_type": "stream",
     "text": [
      "2021-10-22T22:41:44.828+0000\tconnected to: mongodb://localhost/\n",
      "2021-10-22T22:41:47.829+0000\tmoma.Artworks\t54.2MB\n",
      "2021-10-22T22:41:50.829+0000\tmoma.Artworks\t110MB\n",
      "2021-10-22T22:41:51.122+0000\tmoma.Artworks\t115MB\n",
      "2021-10-22T22:41:51.122+0000\t138185 document(s) imported successfully. 0 document(s) failed to import.\n"
     ]
    }
   ],
   "source": [
    "!mongoimport --db moma --collection Artworks < /home/jupyter/snippets/moma/Artworks.json --jsonArray"
   ]
  },
  {
   "cell_type": "markdown",
   "metadata": {},
   "source": [
    "### Step 3. Run document counts"
   ]
  },
  {
   "cell_type": "code",
   "execution_count": 3,
   "metadata": {},
   "outputs": [
    {
     "name": "stdout",
     "output_type": "stream",
     "text": [
      "15233\n"
     ]
    }
   ],
   "source": [
    "!mongo moma --quiet --eval 'db.Artists.count()'"
   ]
  },
  {
   "cell_type": "code",
   "execution_count": 4,
   "metadata": {},
   "outputs": [
    {
     "name": "stdout",
     "output_type": "stream",
     "text": [
      "138185\n"
     ]
    }
   ],
   "source": [
    "!mongo moma --quiet --eval 'db.Artworks.count()'"
   ]
  },
  {
   "cell_type": "code",
   "execution_count": 5,
   "metadata": {},
   "outputs": [
    {
     "name": "stdout",
     "output_type": "stream",
     "text": [
      "{\n",
      "\t\"_id\" : ObjectId(\"61733dc8e0e1524659c93313\"),\n",
      "\t\"ConstituentID\" : 1,\n",
      "\t\"DisplayName\" : \"Robert Arneson\",\n",
      "\t\"ArtistBio\" : \"American, 1930–1992\",\n",
      "\t\"Nationality\" : \"American\",\n",
      "\t\"Gender\" : \"Male\",\n",
      "\t\"BeginDate\" : 1930,\n",
      "\t\"EndDate\" : 1992,\n",
      "\t\"Wiki QID\" : null,\n",
      "\t\"ULAN\" : null\n",
      "}\n"
     ]
    }
   ],
   "source": [
    "!mongo moma --quiet --eval 'db.Artists.findOne()'"
   ]
  },
  {
   "cell_type": "code",
   "execution_count": 6,
   "metadata": {},
   "outputs": [
    {
     "name": "stdout",
     "output_type": "stream",
     "text": [
      "{\n",
      "\t\"_id\" : ObjectId(\"61733e28f1cd66fc96266fbb\"),\n",
      "\t\"Title\" : \"Ferdinandsbrücke Project, Vienna, Austria (Elevation, preliminary version)\",\n",
      "\t\"Artist\" : [\n",
      "\t\t\"Otto Wagner\"\n",
      "\t],\n",
      "\t\"ConstituentID\" : [\n",
      "\t\t6210\n",
      "\t],\n",
      "\t\"ArtistBio\" : [\n",
      "\t\t\"Austrian, 1841–1918\"\n",
      "\t],\n",
      "\t\"Nationality\" : [\n",
      "\t\t\"Austrian\"\n",
      "\t],\n",
      "\t\"BeginDate\" : [\n",
      "\t\t1841\n",
      "\t],\n",
      "\t\"EndDate\" : [\n",
      "\t\t1918\n",
      "\t],\n",
      "\t\"Gender\" : [\n",
      "\t\t\"Male\"\n",
      "\t],\n",
      "\t\"Date\" : \"1896\",\n",
      "\t\"Medium\" : \"Ink and cut-and-pasted painted pages on paper\",\n",
      "\t\"Dimensions\" : \"19 1/8 x 66 1/2\\\" (48.6 x 168.9 cm)\",\n",
      "\t\"CreditLine\" : \"Fractional and promised gift of Jo Carole and Ronald S. Lauder\",\n",
      "\t\"AccessionNumber\" : \"885.1996\",\n",
      "\t\"Classification\" : \"Architecture\",\n",
      "\t\"Department\" : \"Architecture & Design\",\n",
      "\t\"DateAcquired\" : \"1996-04-09\",\n",
      "\t\"Cataloged\" : \"Y\",\n",
      "\t\"ObjectID\" : 2,\n",
      "\t\"URL\" : \"http://www.moma.org/collection/works/2\",\n",
      "\t\"ThumbnailURL\" : \"http://www.moma.org/media/W1siZiIsIjU5NDA1Il0sWyJwIiwiY29udmVydCIsIi1yZXNpemUgMzAweDMwMFx1MDAzZSJdXQ.jpg?sha=137b8455b1ec6167\",\n",
      "\t\"Height (cm)\" : 48.6,\n",
      "\t\"Width (cm)\" : 168.9\n",
      "}\n"
     ]
    }
   ],
   "source": [
    "!mongo moma --quiet --eval 'db.Artworks.findOne()'"
   ]
  },
  {
   "cell_type": "code",
   "execution_count": 7,
   "metadata": {},
   "outputs": [
    {
     "name": "stdout",
     "output_type": "stream",
     "text": [
      "[ null, \"Female\", \"Male\", \"Non-Binary\", \"Non-binary\", \"female\", \"male\" ]\n"
     ]
    }
   ],
   "source": [
    "!mongo moma --quiet --eval 'db.Artists.distinct(\"Gender\")'"
   ]
  },
  {
   "cell_type": "code",
   "execution_count": 8,
   "metadata": {},
   "outputs": [
    {
     "name": "stdout",
     "output_type": "stream",
     "text": [
      "9782\n"
     ]
    }
   ],
   "source": [
    "!mongo moma --quiet --eval 'db.Artists.count({\"Gender\": \"Male\"})'"
   ]
  },
  {
   "cell_type": "code",
   "execution_count": 9,
   "metadata": {},
   "outputs": [
    {
     "name": "stdout",
     "output_type": "stream",
     "text": [
      "9797\n"
     ]
    }
   ],
   "source": [
    "!mongo moma --quiet --eval 'db.Artists.count({\"$or\": [{Gender: \"Male\"}, {Gender: \"male\"}]})'"
   ]
  },
  {
   "cell_type": "code",
   "execution_count": 10,
   "metadata": {},
   "outputs": [
    {
     "name": "stdout",
     "output_type": "stream",
     "text": [
      "2301\n"
     ]
    }
   ],
   "source": [
    "!mongo moma --quiet --eval 'db.Artists.count({\"Gender\": \"Female\"})'"
   ]
  },
  {
   "cell_type": "code",
   "execution_count": 11,
   "metadata": {},
   "outputs": [
    {
     "name": "stdout",
     "output_type": "stream",
     "text": [
      "2302\n"
     ]
    }
   ],
   "source": [
    "!mongo moma --quiet --eval 'db.Artists.count({\"$or\": [{Gender: \"Female\"}, {Gender: \"female\"}]})'"
   ]
  },
  {
   "cell_type": "markdown",
   "metadata": {},
   "source": [
    "### Step 4. Run queries that return single document"
   ]
  },
  {
   "cell_type": "code",
   "execution_count": 12,
   "metadata": {},
   "outputs": [
    {
     "name": "stdout",
     "output_type": "stream",
     "text": [
      "{\n",
      "\t\"_id\" : ObjectId(\"61733dc8e0e1524659c93313\"),\n",
      "\t\"ConstituentID\" : 1,\n",
      "\t\"DisplayName\" : \"Robert Arneson\",\n",
      "\t\"Nationality\" : \"American\"\n",
      "}\n"
     ]
    }
   ],
   "source": [
    "!mongo moma --quiet --eval 'db.Artists.findOne({}, {\"ConstituentID\": 1, \"DisplayName\": 1, \"Nationality\": 1})'"
   ]
  },
  {
   "cell_type": "markdown",
   "metadata": {},
   "source": [
    "### Step 5: Run queries that return multiple documents"
   ]
  },
  {
   "cell_type": "code",
   "execution_count": 13,
   "metadata": {},
   "outputs": [
    {
     "name": "stdout",
     "output_type": "stream",
     "text": [
      "{\n",
      "\t\"_id\" : ObjectId(\"61733dc8e0e1524659c93313\"),\n",
      "\t\"ConstituentID\" : 1,\n",
      "\t\"DisplayName\" : \"Robert Arneson\",\n",
      "\t\"ArtistBio\" : \"American, 1930–1992\",\n",
      "\t\"Nationality\" : \"American\",\n",
      "\t\"Gender\" : \"Male\",\n",
      "\t\"BeginDate\" : 1930,\n",
      "\t\"EndDate\" : 1992,\n",
      "\t\"Wiki QID\" : null,\n",
      "\t\"ULAN\" : null\n",
      "}\n",
      "{\n",
      "\t\"_id\" : ObjectId(\"61733dc8e0e1524659c93314\"),\n",
      "\t\"ConstituentID\" : 9,\n",
      "\t\"DisplayName\" : \"David Aronson\",\n",
      "\t\"ArtistBio\" : \"American, born Lithuania 1923\",\n",
      "\t\"Nationality\" : \"American\",\n",
      "\t\"Gender\" : \"Male\",\n",
      "\t\"BeginDate\" : 1923,\n",
      "\t\"EndDate\" : 0,\n",
      "\t\"Wiki QID\" : \"Q5230870\",\n",
      "\t\"ULAN\" : \"500003363\"\n",
      "}\n",
      "{\n",
      "\t\"_id\" : ObjectId(\"61733dc8e0e1524659c93315\"),\n",
      "\t\"ConstituentID\" : 11,\n",
      "\t\"DisplayName\" : \"Jean (Hans) Arp\",\n",
      "\t\"ArtistBio\" : \"French, born Germany (Alsace). 1886–1966\",\n",
      "\t\"Nationality\" : \"French\",\n",
      "\t\"Gender\" : \"Male\",\n",
      "\t\"BeginDate\" : 1886,\n",
      "\t\"EndDate\" : 1966,\n",
      "\t\"Wiki QID\" : \"Q153739\",\n",
      "\t\"ULAN\" : \"500031000\"\n",
      "}\n"
     ]
    }
   ],
   "source": [
    "!mongo moma --quiet --eval 'db.Artists.find().limit(3).pretty()'"
   ]
  },
  {
   "cell_type": "code",
   "execution_count": 14,
   "metadata": {},
   "outputs": [
    {
     "name": "stdout",
     "output_type": "stream",
     "text": [
      "{\n",
      "\t\"_id\" : ObjectId(\"61733dc8e0e1524659c93313\"),\n",
      "\t\"ConstituentID\" : 1,\n",
      "\t\"DisplayName\" : \"Robert Arneson\",\n",
      "\t\"ArtistBio\" : \"American, 1930–1992\",\n",
      "\t\"Nationality\" : \"American\",\n",
      "\t\"Gender\" : \"Male\",\n",
      "\t\"BeginDate\" : 1930,\n",
      "\t\"EndDate\" : 1992\n",
      "}\n",
      "{\n",
      "\t\"_id\" : ObjectId(\"61733dc8e0e1524659c93314\"),\n",
      "\t\"ConstituentID\" : 9,\n",
      "\t\"DisplayName\" : \"David Aronson\",\n",
      "\t\"ArtistBio\" : \"American, born Lithuania 1923\",\n",
      "\t\"Nationality\" : \"American\",\n",
      "\t\"Gender\" : \"Male\",\n",
      "\t\"BeginDate\" : 1923,\n",
      "\t\"EndDate\" : 0\n",
      "}\n",
      "{\n",
      "\t\"_id\" : ObjectId(\"61733dc8e0e1524659c93316\"),\n",
      "\t\"ConstituentID\" : 10,\n",
      "\t\"DisplayName\" : \"Irene Aronson\",\n",
      "\t\"ArtistBio\" : \"American, born Germany 1918\",\n",
      "\t\"Nationality\" : \"American\",\n",
      "\t\"Gender\" : \"Female\",\n",
      "\t\"BeginDate\" : 1918,\n",
      "\t\"EndDate\" : 0\n",
      "}\n"
     ]
    }
   ],
   "source": [
    "!mongo moma --quiet --eval 'db.Artists.find({Nationality: \"American\"}, {\"Wiki QID\": 0, ULAN: 0}).limit(3).pretty()'"
   ]
  },
  {
   "cell_type": "code",
   "execution_count": 16,
   "metadata": {},
   "outputs": [
    {
     "name": "stdout",
     "output_type": "stream",
     "text": [
      "{\n",
      "\t\"_id\" : ObjectId(\"61733e2bf1cd66fc9627755f\"),\n",
      "\t\"Title\" : \"Philip's Skull (Cat Scan)\",\n",
      "\t\"Artist\" : [\n",
      "\t\t\"Andy Warhol\"\n",
      "\t],\n",
      "\t\"ConstituentID\" : [\n",
      "\t\t6246\n",
      "\t],\n",
      "\t\"Date\" : \"c. 1983\",\n",
      "\t\"Classification\" : \"Print\"\n",
      "}\n",
      "{\n",
      "\t\"_id\" : ObjectId(\"61733e2bf1cd66fc9627310b\"),\n",
      "\t\"Title\" : \"Holly Solomon\",\n",
      "\t\"Artist\" : [\n",
      "\t\t\"Andy Warhol\"\n",
      "\t],\n",
      "\t\"ConstituentID\" : [\n",
      "\t\t6246\n",
      "\t],\n",
      "\t\"Date\" : \"c. 1965\",\n",
      "\t\"Classification\" : \"Photograph\"\n",
      "}\n",
      "{\n",
      "\t\"_id\" : ObjectId(\"61733e2af1cd66fc9626f12c\"),\n",
      "\t\"Title\" : \"Untitled (Feet)\",\n",
      "\t\"Artist\" : [\n",
      "\t\t\"Andy Warhol\"\n",
      "\t],\n",
      "\t\"ConstituentID\" : [\n",
      "\t\t6246\n",
      "\t],\n",
      "\t\"Date\" : \"c. 1958\",\n",
      "\t\"Classification\" : \"Drawing\"\n",
      "}\n"
     ]
    }
   ],
   "source": [
    "!mongo moma --quiet --eval 'db.Artworks.find({ConstituentID: 6246}, {ConstituentID: 6246, Artist: 1, Title: 1, Classification: 1, Date: 1}).sort({Date: -1}).limit(3).pretty()'"
   ]
  },
  {
   "cell_type": "code",
   "execution_count": 17,
   "metadata": {},
   "outputs": [
    {
     "name": "stdout",
     "output_type": "stream",
     "text": [
      "{\n",
      "\t\"_id\" : ObjectId(\"61733e2bf1cd66fc9627755f\"),\n",
      "\t\"Title\" : \"Philip's Skull (Cat Scan)\",\n",
      "\t\"ConstituentID\" : [\n",
      "\t\t6246\n",
      "\t],\n",
      "\t\"Date\" : \"c. 1983\",\n",
      "\t\"Classification\" : \"Print\"\n",
      "}\n",
      "{\n",
      "\t\"_id\" : ObjectId(\"61733e2cf1cd66fc9627a692\"),\n",
      "\t\"Title\" : \"Untitled from À la recherche du shoe perdu\",\n",
      "\t\"ConstituentID\" : [\n",
      "\t\t6246\n",
      "\t],\n",
      "\t\"Date\" : \"c. 1955\",\n",
      "\t\"Classification\" : \"Print\"\n",
      "}\n",
      "{\n",
      "\t\"_id\" : ObjectId(\"61733e29f1cd66fc9626af27\"),\n",
      "\t\"Title\" : \"À la recherche du shoe perdu\",\n",
      "\t\"ConstituentID\" : [\n",
      "\t\t6246\n",
      "\t],\n",
      "\t\"Date\" : \"c. 1955\",\n",
      "\t\"Classification\" : \"Print\"\n",
      "}\n"
     ]
    }
   ],
   "source": [
    "!mongo moma --quiet --eval 'db.Artworks.find({ConstituentID: 6246, Classification: \"Print\"}, {ConstituentID: 1, Classification: 1, Title: 1, Date: 1}).sort({Date: -1}).limit(3).pretty()'"
   ]
  },
  {
   "cell_type": "markdown",
   "metadata": {},
   "source": [
    "### Step 6: Run some range queries"
   ]
  },
  {
   "cell_type": "markdown",
   "metadata": {},
   "source": [
    "#### This query has a bug. Can you find it?"
   ]
  },
  {
   "cell_type": "code",
   "execution_count": 18,
   "metadata": {},
   "outputs": [
    {
     "name": "stdout",
     "output_type": "stream",
     "text": [
      "{\n",
      "\t\"_id\" : ObjectId(\"61733dc8e0e1524659c9331c\"),\n",
      "\t\"ConstituentID\" : 18,\n",
      "\t\"DisplayName\" : \"Artko\",\n",
      "\t\"ArtistBio\" : null,\n",
      "\t\"Nationality\" : null,\n",
      "\t\"Gender\" : null,\n",
      "\t\"BeginDate\" : 0,\n",
      "\t\"EndDate\" : 0,\n",
      "\t\"Wiki QID\" : null,\n",
      "\t\"ULAN\" : null\n",
      "}\n",
      "{\n",
      "\t\"_id\" : ObjectId(\"61733dc8e0e1524659c93329\"),\n",
      "\t\"ConstituentID\" : 22,\n",
      "\t\"DisplayName\" : \"Isidora Aschheim\",\n",
      "\t\"ArtistBio\" : \"Israeli\",\n",
      "\t\"Nationality\" : \"Israeli\",\n",
      "\t\"Gender\" : \"Female\",\n",
      "\t\"BeginDate\" : 0,\n",
      "\t\"EndDate\" : 0,\n",
      "\t\"Wiki QID\" : null,\n",
      "\t\"ULAN\" : null\n",
      "}\n",
      "{\n",
      "\t\"_id\" : ObjectId(\"61733dc8e0e1524659c9332a\"),\n",
      "\t\"ConstituentID\" : 32,\n",
      "\t\"DisplayName\" : \"Atelier Eggers\",\n",
      "\t\"ArtistBio\" : \"French\",\n",
      "\t\"Nationality\" : \"French\",\n",
      "\t\"Gender\" : null,\n",
      "\t\"BeginDate\" : 0,\n",
      "\t\"EndDate\" : 0,\n",
      "\t\"Wiki QID\" : null,\n",
      "\t\"ULAN\" : null\n",
      "}\n"
     ]
    }
   ],
   "source": [
    "!mongo moma --quiet --eval 'db.Artists.find({BeginDate: {$gte: 1700}, BeginDate: {$lte: 1800}}).sort({BeginDate: 1}).limit(3).pretty()'"
   ]
  },
  {
   "cell_type": "code",
   "execution_count": 19,
   "metadata": {},
   "outputs": [
    {
     "name": "stdout",
     "output_type": "stream",
     "text": [
      "{\n",
      "\t\"_id\" : ObjectId(\"61733dc8e0e1524659c933d9\"),\n",
      "\t\"ConstituentID\" : 231,\n",
      "\t\"DisplayName\" : \"Anna Atkins\",\n",
      "\t\"ArtistBio\" : \"British, 1799–1871\",\n",
      "\t\"Nationality\" : \"British\",\n",
      "\t\"Gender\" : \"Female\",\n",
      "\t\"BeginDate\" : 1799,\n",
      "\t\"EndDate\" : 1871,\n",
      "\t\"Wiki QID\" : null,\n",
      "\t\"ULAN\" : null\n",
      "}\n",
      "{\n",
      "\t\"_id\" : ObjectId(\"61733dc8e0e1524659c934fe\"),\n",
      "\t\"ConstituentID\" : 542,\n",
      "\t\"DisplayName\" : \"Thomas Bewick\",\n",
      "\t\"ArtistBio\" : \"British, 1753–1828\",\n",
      "\t\"Nationality\" : \"British\",\n",
      "\t\"Gender\" : \"Male\",\n",
      "\t\"BeginDate\" : 1753,\n",
      "\t\"EndDate\" : 1828,\n",
      "\t\"Wiki QID\" : null,\n",
      "\t\"ULAN\" : null\n",
      "}\n",
      "{\n",
      "\t\"_id\" : ObjectId(\"61733dc8e0e1524659c9376d\"),\n",
      "\t\"ConstituentID\" : 1253,\n",
      "\t\"DisplayName\" : \"Jean-Baptiste-Camille Corot\",\n",
      "\t\"ArtistBio\" : \"French, 1796–1875\",\n",
      "\t\"Nationality\" : \"French\",\n",
      "\t\"Gender\" : \"Male\",\n",
      "\t\"BeginDate\" : 1796,\n",
      "\t\"EndDate\" : 1875,\n",
      "\t\"Wiki QID\" : \"Q148475\",\n",
      "\t\"ULAN\" : \"500115390\"\n",
      "}\n"
     ]
    }
   ],
   "source": [
    "!mongo moma --quiet --eval 'db.Artists.find({BeginDate: {$gte: 1700, $lte: 1800}}).limit(3).pretty()'"
   ]
  },
  {
   "cell_type": "code",
   "execution_count": 20,
   "metadata": {},
   "outputs": [
    {
     "name": "stdout",
     "output_type": "stream",
     "text": [
      "{\n",
      "\t\"_id\" : ObjectId(\"61733dc8e0e1524659c933d9\"),\n",
      "\t\"ConstituentID\" : 231,\n",
      "\t\"DisplayName\" : \"Anna Atkins\",\n",
      "\t\"ArtistBio\" : \"British, 1799–1871\",\n",
      "\t\"Nationality\" : \"British\",\n",
      "\t\"Gender\" : \"Female\",\n",
      "\t\"BeginDate\" : 1799,\n",
      "\t\"EndDate\" : 1871,\n",
      "\t\"Wiki QID\" : null,\n",
      "\t\"ULAN\" : null\n",
      "}\n",
      "{\n",
      "\t\"_id\" : ObjectId(\"61733dc8e0e1524659c934fe\"),\n",
      "\t\"ConstituentID\" : 542,\n",
      "\t\"DisplayName\" : \"Thomas Bewick\",\n",
      "\t\"ArtistBio\" : \"British, 1753–1828\",\n",
      "\t\"Nationality\" : \"British\",\n",
      "\t\"Gender\" : \"Male\",\n",
      "\t\"BeginDate\" : 1753,\n",
      "\t\"EndDate\" : 1828,\n",
      "\t\"Wiki QID\" : null,\n",
      "\t\"ULAN\" : null\n",
      "}\n",
      "{\n",
      "\t\"_id\" : ObjectId(\"61733dc8e0e1524659c9376d\"),\n",
      "\t\"ConstituentID\" : 1253,\n",
      "\t\"DisplayName\" : \"Jean-Baptiste-Camille Corot\",\n",
      "\t\"ArtistBio\" : \"French, 1796–1875\",\n",
      "\t\"Nationality\" : \"French\",\n",
      "\t\"Gender\" : \"Male\",\n",
      "\t\"BeginDate\" : 1796,\n",
      "\t\"EndDate\" : 1875,\n",
      "\t\"Wiki QID\" : \"Q148475\",\n",
      "\t\"ULAN\" : \"500115390\"\n",
      "}\n"
     ]
    }
   ],
   "source": [
    "!mongo moma --quiet --eval 'db.Artists.find({BeginDate: {$gte: 1700, $lte: 1800}, EndDate: {$gte: 1800, $lte: 1900}}).limit(3).pretty()'"
   ]
  },
  {
   "cell_type": "code",
   "execution_count": 21,
   "metadata": {},
   "outputs": [
    {
     "name": "stdout",
     "output_type": "stream",
     "text": [
      "{\n",
      "\t\"_id\" : ObjectId(\"61733dc8e0e1524659c9332a\"),\n",
      "\t\"DisplayName\" : \"Atelier Eggers\",\n",
      "\t\"Gender\" : null\n",
      "}\n",
      "{\n",
      "\t\"_id\" : ObjectId(\"61733dc8e0e1524659c93323\"),\n",
      "\t\"DisplayName\" : \"Göran Åslin\",\n",
      "\t\"Gender\" : null\n",
      "}\n",
      "{\n",
      "\t\"_id\" : ObjectId(\"61733dc8e0e1524659c9331c\"),\n",
      "\t\"DisplayName\" : \"Artko\",\n",
      "\t\"Gender\" : null\n",
      "}\n"
     ]
    }
   ],
   "source": [
    "!mongo moma --quiet --eval 'db.Artists.find({$or: [{Gender: \"Male\"}, {Gender: \"Female\"}, {Gender: null}]}, {Gender: 1, DisplayName: 1, Title: 1}).sort({Gender: 1}).limit(3).pretty()'"
   ]
  },
  {
   "cell_type": "code",
   "execution_count": 22,
   "metadata": {},
   "outputs": [
    {
     "name": "stdout",
     "output_type": "stream",
     "text": [
      "{\n",
      "\t\"_id\" : ObjectId(\"61733e2bf1cd66fc96276e33\"),\n",
      "\t\"Title\" : \"S.M.S. No. 5\",\n",
      "\t\"Artist\" : [\n",
      "\t\t\"William Anthony\",\n",
      "\t\t\"Wall Batterton\",\n",
      "\t\t\"Congo (a Chimpanzee)\",\n",
      "\t\t\"Edward Fitzgerald\",\n",
      "\t\t\"Neil Jenney\",\n",
      "\t\t\"Angus MacLise\",\n",
      "\t\t\"Bruce Nauman\",\n",
      "\t\t\"Yoko Ono\",\n",
      "\t\t\"Mel Ramos\",\n",
      "\t\t\"Robert Rohm\",\n",
      "\t\t\"William Schwedler\",\n",
      "\t\t\"Diane Wakaski\",\n",
      "\t\t\"Lawrence Weiner\",\n",
      "\t\t\"Various Artists\"\n",
      "\t],\n",
      "\t\"Classification\" : \"Illustrated Book\"\n",
      "}\n",
      "{\n",
      "\t\"_id\" : ObjectId(\"61733e2bf1cd66fc96276e39\"),\n",
      "\t\"Title\" : \"Mend Piece for John from S.M.S. No. 5\",\n",
      "\t\"Artist\" : [\n",
      "\t\t\"Yoko Ono\"\n",
      "\t],\n",
      "\t\"Classification\" : \"Multiple\"\n",
      "}\n",
      "{\n",
      "\t\"_id\" : ObjectId(\"61733e2cf1cd66fc9627c8f9\"),\n",
      "\t\"Title\" : \"1969/95 from Museum in Progress\",\n",
      "\t\"Artist\" : [\n",
      "\t\t\"John Lennon\",\n",
      "\t\t\"Yoko Ono\"\n",
      "\t],\n",
      "\t\"Classification\" : \"Print\"\n",
      "}\n"
     ]
    }
   ],
   "source": [
    "!mongo moma --quiet --eval 'db.Artworks.find({Artist: {$in: [\"Yoko Ono\", \"John Lennon\"]}}, {Artist:1, Title:1, Classification:1}).limit(3).pretty()'"
   ]
  },
  {
   "cell_type": "code",
   "execution_count": 23,
   "metadata": {},
   "outputs": [
    {
     "name": "stdout",
     "output_type": "stream",
     "text": [
      "{\n",
      "\t\"_id\" : ObjectId(\"61733e2cf1cd66fc9627c8f9\"),\n",
      "\t\"Title\" : \"1969/95 from Museum in Progress\",\n",
      "\t\"Artist\" : [\n",
      "\t\t\"John Lennon\",\n",
      "\t\t\"Yoko Ono\"\n",
      "\t],\n",
      "\t\"Classification\" : \"Print\"\n",
      "}\n",
      "{\n",
      "\t\"_id\" : ObjectId(\"61733e2df1cd66fc9627f068\"),\n",
      "\t\"Title\" : \"WAR IS OVER!\",\n",
      "\t\"Artist\" : [\n",
      "\t\t\"Yoko Ono\",\n",
      "\t\t\"John Lennon\"\n",
      "\t],\n",
      "\t\"Classification\" : \"Print\"\n",
      "}\n",
      "{\n",
      "\t\"_id\" : ObjectId(\"61733e2df1cd66fc9627f096\"),\n",
      "\t\"Title\" : \"Blue Room Event\",\n",
      "\t\"Artist\" : [\n",
      "\t\t\"Yoko Ono\",\n",
      "\t\t\"John Lennon\"\n",
      "\t],\n",
      "\t\"Classification\" : \"Multiple\"\n",
      "}\n"
     ]
    }
   ],
   "source": [
    "!mongo moma --quiet --eval 'db.Artworks.find({Artist: {$all: [\"Yoko Ono\", \"John Lennon\"]}}, {Artist:1, Title:1, Classification:1}).limit(3).pretty()'"
   ]
  },
  {
   "cell_type": "code",
   "execution_count": 24,
   "metadata": {},
   "outputs": [
    {
     "name": "stdout",
     "output_type": "stream",
     "text": [
      "{\n",
      "\t\"_id\" : ObjectId(\"61733e28f1cd66fc96266fbb\"),\n",
      "\t\"Title\" : \"Ferdinandsbrücke Project, Vienna, Austria (Elevation, preliminary version)\",\n",
      "\t\"Artist\" : [\n",
      "\t\t\"Otto Wagner\"\n",
      "\t],\n",
      "\t\"Classification\" : \"Architecture\"\n",
      "}\n",
      "{\n",
      "\t\"_id\" : ObjectId(\"61733e28f1cd66fc96266fbc\"),\n",
      "\t\"Title\" : \"The Manhattan Transcripts Project, New York, New York, Episode 1: The Park\",\n",
      "\t\"Artist\" : [\n",
      "\t\t\"Bernard Tschumi\"\n",
      "\t],\n",
      "\t\"Classification\" : \"Architecture\"\n",
      "}\n",
      "{\n",
      "\t\"_id\" : ObjectId(\"61733e28f1cd66fc96266fbd\"),\n",
      "\t\"Title\" : \"The Manhattan Transcripts Project, New York, New York, Episode 1: The Park\",\n",
      "\t\"Artist\" : [\n",
      "\t\t\"Bernard Tschumi\"\n",
      "\t],\n",
      "\t\"Classification\" : \"Architecture\"\n",
      "}\n"
     ]
    }
   ],
   "source": [
    "!mongo moma --quiet --eval 'db.Artworks.find({Artist: {$nin: [\"Yoko Ono\", \"John Lennon\"]}}, {Artist:1, Title:1, Classification:1}).limit(3).pretty()'"
   ]
  },
  {
   "cell_type": "markdown",
   "metadata": {},
   "source": [
    "### Step 7: distinct queries"
   ]
  },
  {
   "cell_type": "code",
   "execution_count": 25,
   "metadata": {},
   "outputs": [
    {
     "name": "stdout",
     "output_type": "stream",
     "text": [
      "[ null, \"Female\", \"Male\" ]\n"
     ]
    }
   ],
   "source": [
    "!mongo moma --quiet --eval 'db.Artists.distinct(\"Gender\", {Nationality: \"Indian\"})'"
   ]
  },
  {
   "cell_type": "code",
   "execution_count": 26,
   "metadata": {},
   "outputs": [
    {
     "name": "stdout",
     "output_type": "stream",
     "text": [
      "[ \"Female\" ]\n"
     ]
    }
   ],
   "source": [
    "!mongo moma --quiet --eval 'db.Artists.distinct(\"Gender\", {$or: [{Nationality: \"American\", BeginDate: 1990}]})'"
   ]
  },
  {
   "cell_type": "markdown",
   "metadata": {},
   "source": [
    "### Step 8: Create, update, and remove documents"
   ]
  },
  {
   "cell_type": "code",
   "execution_count": 27,
   "metadata": {},
   "outputs": [],
   "source": [
    "wilt = '{DisplayName: \"Kami Wilt\", Nationality: \"American\", Gender: \"Female\", ArtistBio: \"American, 1975-\", BeginDate: 1975, EndDate: null}'"
   ]
  },
  {
   "cell_type": "code",
   "execution_count": 28,
   "metadata": {},
   "outputs": [],
   "source": [
    "roberts = '{DisplayName: \"Carol Roberts\", Nationality: \"American\", Gender: \"Female\", ArtistBio: \"American, 1965-\", BeginDate: 1965, EndDate: null}'"
   ]
  },
  {
   "cell_type": "code",
   "execution_count": 29,
   "metadata": {},
   "outputs": [
    {
     "name": "stdout",
     "output_type": "stream",
     "text": [
      "WriteResult({ \"nInserted\" : 1 })\n"
     ]
    }
   ],
   "source": [
    "!mongo moma --quiet --eval 'db.Artists.insert({wilt})'"
   ]
  },
  {
   "cell_type": "code",
   "execution_count": 30,
   "metadata": {},
   "outputs": [
    {
     "name": "stdout",
     "output_type": "stream",
     "text": [
      "WriteResult({ \"nInserted\" : 1 })\n"
     ]
    }
   ],
   "source": [
    "!mongo moma --quiet --eval 'db.Artists.insert({roberts})'"
   ]
  },
  {
   "cell_type": "code",
   "execution_count": 31,
   "metadata": {},
   "outputs": [
    {
     "name": "stdout",
     "output_type": "stream",
     "text": [
      "{ \"_id\" : ObjectId(\"617344abfd7cf38c59e39a0e\"), \"DisplayName\" : \"Kami Wilt\", \"Nationality\" : \"American\", \"Gender\" : \"Female\", \"ArtistBio\" : \"American, 1975-\", \"BeginDate\" : 1975, \"EndDate\" : null }\n",
      "{ \"_id\" : ObjectId(\"617344b1f7b302ae9badfa75\"), \"DisplayName\" : \"Carol Roberts\", \"Nationality\" : \"American\", \"Gender\" : \"Female\", \"ArtistBio\" : \"American, 1965-\", \"BeginDate\" : 1965, \"EndDate\" : null }\n"
     ]
    }
   ],
   "source": [
    "!mongo moma --quiet --eval 'db.Artists.find({DisplayName: {$in: [\"Kami Wilt\", \"Carol Roberts\"]}})'"
   ]
  },
  {
   "cell_type": "code",
   "execution_count": 32,
   "metadata": {},
   "outputs": [
    {
     "name": "stdout",
     "output_type": "stream",
     "text": [
      "WriteResult({ \"nMatched\" : 1, \"nUpserted\" : 0, \"nModified\" : 1 })\n"
     ]
    }
   ],
   "source": [
    "!mongo moma --quiet --eval 'db.Artists.update({DisplayName: \"Kami Wilt\"}, {DisplayName: \"Kami Wilt\", ConstituentID: 16000})'"
   ]
  },
  {
   "cell_type": "code",
   "execution_count": 33,
   "metadata": {},
   "outputs": [
    {
     "name": "stdout",
     "output_type": "stream",
     "text": [
      "WriteResult({ \"nMatched\" : 1, \"nUpserted\" : 0, \"nModified\" : 1 })\n"
     ]
    }
   ],
   "source": [
    "!mongo moma --quiet --eval 'db.Artists.update({DisplayName: \"Carol Roberts\"}, {$set: {\"Residence\": \"Austin, TX\"}}, false, true)'"
   ]
  },
  {
   "cell_type": "markdown",
   "metadata": {},
   "source": [
    "#### Note: second update command replaces attributes rather than entire document. 3rd param == upsert, 4th param == multi. "
   ]
  },
  {
   "cell_type": "code",
   "execution_count": 35,
   "metadata": {},
   "outputs": [
    {
     "name": "stdout",
     "output_type": "stream",
     "text": [
      "{ \"_id\" : ObjectId(\"617344abfd7cf38c59e39a0e\"), \"DisplayName\" : \"Kami Wilt\", \"ConstituentID\" : 16000 }\n"
     ]
    }
   ],
   "source": [
    "!mongo moma --quiet --eval 'db.Artists.find({DisplayName: \"Kami Wilt\"})'"
   ]
  },
  {
   "cell_type": "code",
   "execution_count": 34,
   "metadata": {},
   "outputs": [
    {
     "name": "stdout",
     "output_type": "stream",
     "text": [
      "{ \"_id\" : ObjectId(\"617344b1f7b302ae9badfa75\"), \"DisplayName\" : \"Carol Roberts\", \"Nationality\" : \"American\", \"Gender\" : \"Female\", \"ArtistBio\" : \"American, 1965-\", \"BeginDate\" : 1965, \"EndDate\" : null, \"Residence\" : \"Austin, TX\" }\n"
     ]
    }
   ],
   "source": [
    "!mongo moma --quiet --eval 'db.Artists.find({DisplayName: \"Carol Roberts\"})'"
   ]
  },
  {
   "cell_type": "code",
   "execution_count": 36,
   "metadata": {},
   "outputs": [
    {
     "name": "stdout",
     "output_type": "stream",
     "text": [
      "WriteResult({ \"nRemoved\" : 1 })\n"
     ]
    }
   ],
   "source": [
    "!mongo moma --quiet --eval 'db.Artists.remove({DisplayName: \"Kami Wilt\"})'"
   ]
  },
  {
   "cell_type": "code",
   "execution_count": 37,
   "metadata": {},
   "outputs": [],
   "source": [
    "!mongo moma --quiet --eval 'db.Artists.find({DisplayName: \"Kami Wilt\"})'"
   ]
  },
  {
   "cell_type": "code",
   "execution_count": 38,
   "metadata": {},
   "outputs": [
    {
     "name": "stdout",
     "output_type": "stream",
     "text": [
      "WriteResult({ \"nRemoved\" : 1 })\n"
     ]
    }
   ],
   "source": [
    "!mongo moma --quiet --eval 'db.Artists.remove({DisplayName: \"Carol Roberts\", Residence: \"Austin, TX\"})'"
   ]
  },
  {
   "cell_type": "code",
   "execution_count": 39,
   "metadata": {},
   "outputs": [],
   "source": [
    "!mongo moma --quiet --eval 'db.Artists.find({DisplayName: \"Carol Roberts\"})'"
   ]
  },
  {
   "cell_type": "code",
   "execution_count": null,
   "metadata": {},
   "outputs": [],
   "source": []
  }
 ],
 "metadata": {
  "environment": {
   "name": "common-cpu.m78",
   "type": "gcloud",
   "uri": "gcr.io/deeplearning-platform-release/base-cpu:m78"
  },
  "kernelspec": {
   "display_name": "Python 3",
   "language": "python",
   "name": "python3"
  },
  "language_info": {
   "codemirror_mode": {
    "name": "ipython",
    "version": 3
   },
   "file_extension": ".py",
   "mimetype": "text/x-python",
   "name": "python",
   "nbconvert_exporter": "python",
   "pygments_lexer": "ipython3",
   "version": "3.7.10"
  }
 },
 "nbformat": 4,
 "nbformat_minor": 4
}

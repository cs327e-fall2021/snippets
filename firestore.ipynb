{
 "cells": [
  {
   "cell_type": "markdown",
   "metadata": {},
   "source": [
    "### Step 1. Download the college normalized dataset:\n",
    "#### gsutil cp gs://cs327e-open-access/fs_college.zip .\n",
    "#### unzip fs_college.zip"
   ]
  },
  {
   "cell_type": "markdown",
   "metadata": {},
   "source": [
    "### Step 2: Run code samples in sequence to populate Firestore database"
   ]
  },
  {
   "cell_type": "code",
   "execution_count": null,
   "metadata": {},
   "outputs": [],
   "source": [
    "import pandas as pd\n",
    "from google.cloud import firestore\n",
    "db = firestore.Client()"
   ]
  },
  {
   "cell_type": "code",
   "execution_count": null,
   "metadata": {},
   "outputs": [],
   "source": [
    "batch = db.batch()\n",
    "\n",
    "df = pd.read_csv('fs_college/class.csv', sep=',', header=0, lineterminator='\\n')\n",
    "rows = df.values.tolist()\n",
    "\n",
    "for row in rows:\n",
    "    \n",
    "    record = {}\n",
    "    record['cno'] = row[0]\n",
    "    record['cname'] = row[1]\n",
    "    record['credits'] = row[2]\n",
    "    \n",
    "    class_ref = db.collection('class').document(row[0])\n",
    "    \n",
    "    batch.set(class_ref, record)\n",
    "    \n",
    "batch.commit()"
   ]
  },
  {
   "cell_type": "code",
   "execution_count": null,
   "metadata": {},
   "outputs": [],
   "source": [
    "batch = db.batch()\n",
    "\n",
    "df = pd.read_csv('fs_college/student.csv', sep=',', header=0, lineterminator='\\n')\n",
    "student_rows = df.values.tolist()\n",
    "\n",
    "df = pd.read_csv('fs_college/takes.csv', sep=',', header=0, lineterminator='\\n')\n",
    "takes_rows = df.values.tolist()\n",
    "\n",
    "for student_row in student_rows:\n",
    "    \n",
    "    student_record = {}\n",
    "    student_record['sid'] = student_row[0]\n",
    "    student_record['fname'] = student_row[1]\n",
    "    student_record['lname'] = student_row[2]\n",
    "    student_record['dob'] = student_row[3]\n",
    "    student_record['status'] = student_row[4]\n",
    "    \n",
    "    student_ref = db.collection('student').document(student_row[0])\n",
    "    \n",
    "    batch.set(student_ref, student_record)\n",
    "    \n",
    "    for takes_row in takes_rows:\n",
    "        if student_row[0] == takes_row[0]:\n",
    "            \n",
    "            class_record = {}\n",
    "            class_record['cno'] = takes_row[1]\n",
    "            class_record['cname'] = takes_row[2]\n",
    "            class_record['credits'] = takes_row[3]\n",
    "            class_record['grade'] = takes_row[4]\n",
    "            \n",
    "            classes_ref = student_ref.collection('classes').document(takes_row[1])\n",
    "        \n",
    "            batch.set(classes_ref, class_record)\n",
    "    \n",
    "    \n",
    "    batch.commit()\n",
    "    "
   ]
  },
  {
   "cell_type": "code",
   "execution_count": null,
   "metadata": {},
   "outputs": [],
   "source": [
    "batch = db.batch()\n",
    "\n",
    "df = pd.read_csv('fs_college/instructor.csv', sep=',', header=0, lineterminator='\\n')\n",
    "instructor_rows = df.values.tolist()\n",
    "\n",
    "df = pd.read_csv('fs_college/teaches.csv', sep=',', header=0, lineterminator='\\n')\n",
    "teaches_rows = df.values.tolist()\n",
    "\n",
    "for instructor_row in instructor_rows:\n",
    "    \n",
    "    instructor_record = {}\n",
    "    instructor_record['tid'] = instructor_row[0]\n",
    "    instructor_record['instructor_name'] = instructor_row[1]\n",
    "    instructor_record['dept'] = instructor_row[2]\n",
    "    \n",
    "    instructor_ref = db.collection('instructor').document(instructor_row[0])\n",
    "    \n",
    "    batch.set(instructor_ref, instructor_record)\n",
    "    \n",
    "    for teaches_row in teaches_rows:\n",
    "        \n",
    "        if instructor_row[0] == teaches_row[0]:\n",
    "            \n",
    "            class_record = {}\n",
    "            class_record['cno'] = teaches_row[1]\n",
    "            class_record['cname'] = teaches_row[2]\n",
    "            class_record['credits'] = teaches_row[3]\n",
    "            \n",
    "            classes_ref = instructor_ref.collection('classes').document(teaches_row[1])\n",
    "        \n",
    "            batch.set(classes_ref, class_record)\n",
    "    \n",
    "    batch.commit()"
   ]
  },
  {
   "cell_type": "markdown",
   "metadata": {},
   "source": [
    "### Step 3: Run some queries"
   ]
  },
  {
   "cell_type": "code",
   "execution_count": null,
   "metadata": {},
   "outputs": [],
   "source": [
    "student_ref = db.collection('student').document('paulg')\n",
    "result = student_ref.get()\n",
    "\n",
    "if result.exists:\n",
    "    print(f'{result.id} => {result.to_dict()}')\n",
    "else:\n",
    "    print('No such student')"
   ]
  },
  {
   "cell_type": "code",
   "execution_count": null,
   "metadata": {},
   "outputs": [],
   "source": [
    "student_ref = db.collection('student')\n",
    "query = student_ref.where('status', '==', 'CUR')\n",
    "results = query.stream()\n",
    "\n",
    "for result in results:\n",
    "    print(f'{result.id} => {result.to_dict()}')"
   ]
  },
  {
   "cell_type": "code",
   "execution_count": null,
   "metadata": {},
   "outputs": [],
   "source": [
    "query = db.collection('instructor').document('mitra').collection('classes')\n",
    "\n",
    "results = query.stream()\n",
    "\n",
    "for result in results:\n",
    "    print(f'{result.id} => {result.to_dict()}')"
   ]
  },
  {
   "cell_type": "code",
   "execution_count": null,
   "metadata": {},
   "outputs": [],
   "source": [
    "classes = db.collection_group('classes').where('credits', '==', 3)\n",
    "docs = classes.stream()\n",
    "for doc in docs:\n",
    "    print(f'{doc.id} => {doc.to_dict()}')"
   ]
  },
  {
   "cell_type": "code",
   "execution_count": null,
   "metadata": {},
   "outputs": [],
   "source": [
    "instructor_ref = db.collection('instructor')\n",
    "results = instructor_ref.stream()\n",
    "\n",
    "for result in results:\n",
    "    print(f'{result.id} => {result.to_dict()}')\n",
    "    sresults = instructor_ref.document(result.id).collection('classes').stream()\n",
    "    \n",
    "    for sresult in sresults:\n",
    "        print(f'{sresult.id} => {sresult.to_dict()}')"
   ]
  },
  {
   "cell_type": "code",
   "execution_count": null,
   "metadata": {},
   "outputs": [],
   "source": []
  }
 ],
 "metadata": {
  "environment": {
   "name": "common-cpu.m78",
   "type": "gcloud",
   "uri": "gcr.io/deeplearning-platform-release/base-cpu:m78"
  },
  "kernelspec": {
   "display_name": "Python 3",
   "language": "python",
   "name": "python3"
  },
  "language_info": {
   "codemirror_mode": {
    "name": "ipython",
    "version": 3
   },
   "file_extension": ".py",
   "mimetype": "text/x-python",
   "name": "python",
   "nbconvert_exporter": "python",
   "pygments_lexer": "ipython3",
   "version": "3.7.10"
  }
 },
 "nbformat": 4,
 "nbformat_minor": 4
}

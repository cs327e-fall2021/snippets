{
 "cells": [
  {
   "cell_type": "markdown",
   "metadata": {},
   "source": [
    "### Set environment variables before running"
   ]
  },
  {
   "cell_type": "code",
   "execution_count": 1,
   "metadata": {},
   "outputs": [
    {
     "name": "stdout",
     "output_type": "stream",
     "text": [
      "env: PGDATABASE=postgres\n",
      "env: PGHOST=10.44.48.7\n",
      "env: PGPORT=5432\n",
      "env: PGUSER=postgres\n",
      "env: PGPASSWORD=cs327e!\n",
      "env: PGINSTANCE=pg\n"
     ]
    }
   ],
   "source": [
    "%env PGDATABASE=postgres\n",
    "%env PGHOST=<your_IP>\n",
    "%env PGPORT=5432\n",
    "%env PGUSER=postgres\n",
    "%env PGPASSWORD=<your_password>\n",
    "%env PGINSTANCE=<your_instance>"
   ]
  },
  {
   "cell_type": "markdown",
   "metadata": {},
   "source": [
    "### Download Dataset"
   ]
  },
  {
   "cell_type": "code",
   "execution_count": 4,
   "metadata": {},
   "outputs": [
    {
     "name": "stdout",
     "output_type": "stream",
     "text": [
      "Copying gs://cs327e-open-access/postgres_college.zip...\n",
      "/ [1 files][  1.6 KiB/  1.6 KiB]                                                \n",
      "Operation completed over 1 objects/1.6 KiB.                                      \n"
     ]
    }
   ],
   "source": [
    "!gsutil cp gs://cs327e-open-access/postgres_college.zip /home/jupyter/snippets"
   ]
  },
  {
   "cell_type": "code",
   "execution_count": null,
   "metadata": {},
   "outputs": [
    {
     "name": "stdout",
     "output_type": "stream",
     "text": [
      "Archive:  postgres_college.zip\n",
      "replace postgres_college/class.csv? [y]es, [n]o, [A]ll, [N]one, [r]ename: "
     ]
    }
   ],
   "source": [
    "!unzip postgres_college.zip"
   ]
  },
  {
   "cell_type": "markdown",
   "metadata": {},
   "source": [
    "### Create tables"
   ]
  },
  {
   "cell_type": "code",
   "execution_count": 2,
   "metadata": {},
   "outputs": [
    {
     "name": "stdout",
     "output_type": "stream",
     "text": [
      "psql:/home/jupyter/snippets/create_tables.sql:1: NOTICE:  drop cascades to 4 other objects\n",
      "DETAIL:  drop cascades to table college.class\n",
      "drop cascades to table college.instructor\n",
      "drop cascades to table college.student\n",
      "drop cascades to table college.teaches\n",
      "DROP SCHEMA\n",
      "CREATE SCHEMA\n",
      "SET\n",
      "CREATE TABLE\n",
      "CREATE TABLE\n",
      "CREATE TABLE\n",
      "CREATE TABLE\n"
     ]
    }
   ],
   "source": [
    "!psql -c \"\\i /home/jupyter/snippets/create_postgres_tables.sql\""
   ]
  },
  {
   "cell_type": "code",
   "execution_count": 3,
   "metadata": {},
   "outputs": [
    {
     "name": "stdout",
     "output_type": "stream",
     "text": [
      "                       Table \"college.class\"\n",
      " Column  |          Type          | Collation | Nullable | Default \n",
      "---------+------------------------+-----------+----------+---------\n",
      " sid     | character varying(10)  |           |          | \n",
      " cno     | character(6)           |           |          | \n",
      " cname   | character varying(200) |           |          | \n",
      " credits | integer                |           |          | \n",
      " grade   | character(2)           |           |          | \n",
      "\n"
     ]
    }
   ],
   "source": [
    "!psql -c \"\\d college.Class\""
   ]
  },
  {
   "cell_type": "code",
   "execution_count": 4,
   "metadata": {},
   "outputs": [
    {
     "name": "stdout",
     "output_type": "stream",
     "text": [
      "                     Table \"college.student\"\n",
      " Column |          Type          | Collation | Nullable | Default \n",
      "--------+------------------------+-----------+----------+---------\n",
      " sid    | character varying(10)  |           |          | \n",
      " fname  | character varying(200) |           |          | \n",
      " lname  | character varying(200) |           |          | \n",
      " dob    | character varying(20)  |           |          | \n",
      " status | character(3)           |           |          | \n",
      "\n"
     ]
    }
   ],
   "source": [
    "!psql -c \"\\d college.Student\""
   ]
  },
  {
   "cell_type": "code",
   "execution_count": 5,
   "metadata": {},
   "outputs": [
    {
     "name": "stdout",
     "output_type": "stream",
     "text": [
      "                     Table \"college.instructor\"\n",
      "   Column   |         Type          | Collation | Nullable | Default \n",
      "------------+-----------------------+-----------+----------+---------\n",
      " tid        | character varying(10) |           |          | \n",
      " instructor | character varying(50) |           |          | \n",
      " dept       | character varying(50) |           |          | \n",
      "\n"
     ]
    }
   ],
   "source": [
    "!psql -c \"\\d college.Instructor\""
   ]
  },
  {
   "cell_type": "code",
   "execution_count": 6,
   "metadata": {},
   "outputs": [
    {
     "name": "stdout",
     "output_type": "stream",
     "text": [
      "                     Table \"college.teaches\"\n",
      " Column |         Type          | Collation | Nullable | Default \n",
      "--------+-----------------------+-----------+----------+---------\n",
      " tid    | character varying(10) |           |          | \n",
      " cno    | character(6)          |           |          | \n",
      "\n"
     ]
    }
   ],
   "source": [
    "!psql -c \"\\d college.Teaches\""
   ]
  },
  {
   "cell_type": "markdown",
   "metadata": {},
   "source": [
    "### Populate Database"
   ]
  },
  {
   "cell_type": "code",
   "execution_count": 7,
   "metadata": {},
   "outputs": [
    {
     "name": "stdout",
     "output_type": "stream",
     "text": [
      "Importing data into Cloud SQL instance...done.                                 \n",
      "Imported data from [gs://cs327e-open-access/postgres_college/class.csv] into [https://sqladmin.googleapis.com/sql/v1beta4/projects/cs327e-fa2021/instances/pg].\n"
     ]
    }
   ],
   "source": [
    "!gcloud sql import csv $PGINSTANCE gs://cs327e-open-access/postgres_college/class.csv --database=postgres --table=college.Class --quiet"
   ]
  },
  {
   "cell_type": "code",
   "execution_count": 8,
   "metadata": {},
   "outputs": [
    {
     "name": "stdout",
     "output_type": "stream",
     "text": [
      "Importing data into Cloud SQL instance...done.                                 \n",
      "Imported data from [gs://cs327e-open-access/postgres_college/student.csv] into [https://sqladmin.googleapis.com/sql/v1beta4/projects/cs327e-fa2021/instances/pg].\n"
     ]
    }
   ],
   "source": [
    "!gcloud sql import csv $PGINSTANCE gs://cs327e-open-access/postgres_college/student.csv --database=postgres --table=college.Student --quiet"
   ]
  },
  {
   "cell_type": "code",
   "execution_count": 9,
   "metadata": {},
   "outputs": [
    {
     "name": "stdout",
     "output_type": "stream",
     "text": [
      "Importing data into Cloud SQL instance...done.                                 \n",
      "Imported data from [gs://cs327e-open-access/postgres_college/instructor.csv] into [https://sqladmin.googleapis.com/sql/v1beta4/projects/cs327e-fa2021/instances/pg].\n"
     ]
    }
   ],
   "source": [
    "!gcloud sql import csv $PGINSTANCE gs://cs327e-open-access/postgres_college/instructor.csv --database=postgres --table=college.Instructor --quiet"
   ]
  },
  {
   "cell_type": "code",
   "execution_count": 10,
   "metadata": {},
   "outputs": [
    {
     "name": "stdout",
     "output_type": "stream",
     "text": [
      "Importing data into Cloud SQL instance...done.                                 \n",
      "Imported data from [gs://cs327e-open-access/postgres_college/teaches.csv] into [https://sqladmin.googleapis.com/sql/v1beta4/projects/cs327e-fa2021/instances/pg].\n"
     ]
    }
   ],
   "source": [
    "!gcloud sql import csv $PGINSTANCE gs://cs327e-open-access/postgres_college/teaches.csv --database=postgres --table=college.Teaches --quiet"
   ]
  },
  {
   "cell_type": "markdown",
   "metadata": {},
   "source": [
    "### Verify data load"
   ]
  },
  {
   "cell_type": "code",
   "execution_count": 11,
   "metadata": {},
   "outputs": [
    {
     "name": "stdout",
     "output_type": "stream",
     "text": [
      " count \n",
      "-------\n",
      "    16\n",
      "(1 row)\n",
      "\n"
     ]
    }
   ],
   "source": [
    "!psql -c \"select count(*) from college.Class\""
   ]
  },
  {
   "cell_type": "code",
   "execution_count": 12,
   "metadata": {},
   "outputs": [
    {
     "name": "stdout",
     "output_type": "stream",
     "text": [
      " count \n",
      "-------\n",
      "    12\n",
      "(1 row)\n",
      "\n"
     ]
    }
   ],
   "source": [
    "!psql -c \"select count(*) from college.Student\""
   ]
  },
  {
   "cell_type": "code",
   "execution_count": 13,
   "metadata": {},
   "outputs": [
    {
     "name": "stdout",
     "output_type": "stream",
     "text": [
      " count \n",
      "-------\n",
      "    10\n",
      "(1 row)\n",
      "\n"
     ]
    }
   ],
   "source": [
    "!psql -c \"select count(*) from college.Instructor\""
   ]
  },
  {
   "cell_type": "code",
   "execution_count": 14,
   "metadata": {},
   "outputs": [
    {
     "name": "stdout",
     "output_type": "stream",
     "text": [
      " count \n",
      "-------\n",
      "    12\n",
      "(1 row)\n",
      "\n"
     ]
    }
   ],
   "source": [
    "!psql -c \"select count(*) from college.Teaches\""
   ]
  },
  {
   "cell_type": "markdown",
   "metadata": {},
   "source": [
    "### Exercise: Decompose Class table into new Class and Takes tables (as specified by data model)"
   ]
  },
  {
   "cell_type": "code",
   "execution_count": 15,
   "metadata": {},
   "outputs": [
    {
     "name": "stdout",
     "output_type": "stream",
     "text": [
      "   sid    |  cno   |                 cname                 | credits | grade \n",
      "----------+--------+---------------------------------------+---------+-------\n",
      " sudeepa4 | CS303E | Elements of Computers and Programming |       3 | \n",
      " jc       | CS313E | Elements of Software Design           |       3 | \n",
      " paulg    | CS313E | Elements of Software Design           |       3 | \n",
      " paulg    | CS326E | Elements of Networking                |       3 | A-\n",
      " jerryh   | CS327E | Elements of Databases                 |       3 | B \n",
      " jc       | CS327E | Elements of Databases                 |       3 | \n",
      " paulg    | CS329E | Elements of Web Programming           |       3 | A \n",
      " jerryh   | CS329E | Elements of Web Programming           |       3 | A-\n",
      " kev18    | CS329E | Elements of Web Programming           |       3 | \n",
      " jc       | CS330E | Elements of Software Engineering      |       3 | \n",
      " bzen26   | CS330E | Elements of Software Engineering      |       3 | B+\n",
      " kev18    | CS347  | Data Management                       |       3 | \n",
      " aprilz   | CS373  | Software Engineering                  |       3 | \n",
      " sudeepa4 | M328K  | Intro to Number Theory                |       3 | \n",
      " aprilz   | M358K  | Applied Statistics                    |       3 | \n",
      " kev18    | M362K  | Probability I                         |       3 | \n",
      "(16 rows)\n",
      "\n"
     ]
    }
   ],
   "source": [
    "!psql -c \"select * from college.Class order by cno\""
   ]
  },
  {
   "cell_type": "code",
   "execution_count": 16,
   "metadata": {},
   "outputs": [
    {
     "name": "stdout",
     "output_type": "stream",
     "text": [
      "SELECT 16\n"
     ]
    }
   ],
   "source": [
    "!psql -c \"create table college.Takes as select sid, cno, grade from college.Class\""
   ]
  },
  {
   "cell_type": "code",
   "execution_count": null,
   "metadata": {},
   "outputs": [],
   "source": [
    "!psql -c \"create table college.Class2 as select distinct cno, cname, credits from college.Class order by cno\""
   ]
  },
  {
   "cell_type": "markdown",
   "metadata": {},
   "source": [
    "### Drop and rename Class tables"
   ]
  },
  {
   "cell_type": "code",
   "execution_count": 17,
   "metadata": {},
   "outputs": [
    {
     "name": "stdout",
     "output_type": "stream",
     "text": [
      "DROP TABLE\n"
     ]
    }
   ],
   "source": [
    "!psql -c \"drop table college.Class\""
   ]
  },
  {
   "cell_type": "code",
   "execution_count": 18,
   "metadata": {},
   "outputs": [
    {
     "name": "stdout",
     "output_type": "stream",
     "text": [
      "ALTER TABLE\n"
     ]
    }
   ],
   "source": [
    "!psql -c \"alter table college.Class2 rename to Class\""
   ]
  },
  {
   "cell_type": "markdown",
   "metadata": {},
   "source": [
    "### Add primary keys"
   ]
  },
  {
   "cell_type": "code",
   "execution_count": 19,
   "metadata": {},
   "outputs": [
    {
     "name": "stdout",
     "output_type": "stream",
     "text": [
      "ALTER TABLE\n"
     ]
    }
   ],
   "source": [
    "!psql -c \"alter table college.Class add primary key (cno)\""
   ]
  },
  {
   "cell_type": "code",
   "execution_count": 20,
   "metadata": {},
   "outputs": [
    {
     "name": "stdout",
     "output_type": "stream",
     "text": [
      "ALTER TABLE\n"
     ]
    }
   ],
   "source": [
    "!psql -c \"alter table college.Student add primary key (sid)\""
   ]
  },
  {
   "cell_type": "code",
   "execution_count": 21,
   "metadata": {},
   "outputs": [
    {
     "name": "stdout",
     "output_type": "stream",
     "text": [
      "ALTER TABLE\n"
     ]
    }
   ],
   "source": [
    "!psql -c \"alter table college.Takes add primary key (sid, cno)\""
   ]
  },
  {
   "cell_type": "code",
   "execution_count": 22,
   "metadata": {},
   "outputs": [
    {
     "name": "stdout",
     "output_type": "stream",
     "text": [
      "ALTER TABLE\n"
     ]
    }
   ],
   "source": [
    "!psql -c \"alter table college.Instructor add primary key (tid)\""
   ]
  },
  {
   "cell_type": "code",
   "execution_count": 23,
   "metadata": {},
   "outputs": [
    {
     "name": "stdout",
     "output_type": "stream",
     "text": [
      "ALTER TABLE\n"
     ]
    }
   ],
   "source": [
    "!psql -c \"alter table college.Teaches add primary key (tid, cno)\""
   ]
  },
  {
   "cell_type": "markdown",
   "metadata": {},
   "source": [
    "### Add foreign keys"
   ]
  },
  {
   "cell_type": "code",
   "execution_count": 24,
   "metadata": {},
   "outputs": [
    {
     "name": "stdout",
     "output_type": "stream",
     "text": [
      "ALTER TABLE\n"
     ]
    }
   ],
   "source": [
    "!psql -c \"alter table college.Takes add foreign key (sid) references college.Student (sid)\""
   ]
  },
  {
   "cell_type": "code",
   "execution_count": 25,
   "metadata": {},
   "outputs": [
    {
     "name": "stdout",
     "output_type": "stream",
     "text": [
      "ALTER TABLE\n"
     ]
    }
   ],
   "source": [
    "!psql -c \"alter table college.Takes add foreign key (cno) references college.Class (cno)\""
   ]
  },
  {
   "cell_type": "code",
   "execution_count": 26,
   "metadata": {},
   "outputs": [
    {
     "name": "stdout",
     "output_type": "stream",
     "text": [
      "ALTER TABLE\n"
     ]
    }
   ],
   "source": [
    "!psql -c \"alter table college.Teaches add foreign key (tid) references college.Instructor (tid)\""
   ]
  },
  {
   "cell_type": "code",
   "execution_count": 29,
   "metadata": {},
   "outputs": [
    {
     "name": "stdout",
     "output_type": "stream",
     "text": [
      "ALTER TABLE\n"
     ]
    }
   ],
   "source": [
    "!psql -c \"alter table college.Teaches add foreign key (cno) references college.Class (cno)\""
   ]
  },
  {
   "cell_type": "code",
   "execution_count": 28,
   "metadata": {},
   "outputs": [
    {
     "name": "stdout",
     "output_type": "stream",
     "text": [
      "INSERT 0 1\n"
     ]
    }
   ],
   "source": [
    "!psql -c \"insert into college.Class (cno, cname, credits) values ('CS331E', 'Elements of Mobile Computing', 3)\""
   ]
  },
  {
   "cell_type": "markdown",
   "metadata": {},
   "source": [
    "### Describe final tables"
   ]
  },
  {
   "cell_type": "code",
   "execution_count": 30,
   "metadata": {},
   "outputs": [
    {
     "name": "stdout",
     "output_type": "stream",
     "text": [
      "                     Table \"college.student\"\n",
      " Column |          Type          | Collation | Nullable | Default \n",
      "--------+------------------------+-----------+----------+---------\n",
      " sid    | character varying(10)  |           | not null | \n",
      " fname  | character varying(200) |           |          | \n",
      " lname  | character varying(200) |           |          | \n",
      " dob    | character varying(20)  |           |          | \n",
      " status | character(3)           |           |          | \n",
      "Indexes:\n",
      "    \"student_pkey\" PRIMARY KEY, btree (sid)\n",
      "Referenced by:\n",
      "    TABLE \"college.takes\" CONSTRAINT \"takes_sid_fkey\" FOREIGN KEY (sid) REFERENCES college.student(sid)\n",
      "\n"
     ]
    }
   ],
   "source": [
    "!psql -c \"\\d college.Student\""
   ]
  },
  {
   "cell_type": "code",
   "execution_count": 31,
   "metadata": {},
   "outputs": [
    {
     "name": "stdout",
     "output_type": "stream",
     "text": [
      "                       Table \"college.class\"\n",
      " Column  |          Type          | Collation | Nullable | Default \n",
      "---------+------------------------+-----------+----------+---------\n",
      " cno     | character(6)           |           | not null | \n",
      " cname   | character varying(200) |           |          | \n",
      " credits | integer                |           |          | \n",
      "Indexes:\n",
      "    \"class_pkey\" PRIMARY KEY, btree (cno)\n",
      "Referenced by:\n",
      "    TABLE \"college.takes\" CONSTRAINT \"takes_cno_fkey\" FOREIGN KEY (cno) REFERENCES college.class(cno)\n",
      "    TABLE \"college.teaches\" CONSTRAINT \"teaches_cno_fkey\" FOREIGN KEY (cno) REFERENCES college.class(cno)\n",
      "\n"
     ]
    }
   ],
   "source": [
    "!psql -c \"\\d college.Class\""
   ]
  },
  {
   "cell_type": "code",
   "execution_count": 32,
   "metadata": {},
   "outputs": [
    {
     "name": "stdout",
     "output_type": "stream",
     "text": [
      "                      Table \"college.takes\"\n",
      " Column |         Type          | Collation | Nullable | Default \n",
      "--------+-----------------------+-----------+----------+---------\n",
      " sid    | character varying(10) |           | not null | \n",
      " cno    | character(6)          |           | not null | \n",
      " grade  | character(2)          |           |          | \n",
      "Indexes:\n",
      "    \"takes_pkey\" PRIMARY KEY, btree (sid, cno)\n",
      "Foreign-key constraints:\n",
      "    \"takes_cno_fkey\" FOREIGN KEY (cno) REFERENCES college.class(cno)\n",
      "    \"takes_sid_fkey\" FOREIGN KEY (sid) REFERENCES college.student(sid)\n",
      "\n"
     ]
    }
   ],
   "source": [
    "!psql -c \"\\d college.Takes\""
   ]
  },
  {
   "cell_type": "code",
   "execution_count": 33,
   "metadata": {},
   "outputs": [
    {
     "name": "stdout",
     "output_type": "stream",
     "text": [
      "                     Table \"college.instructor\"\n",
      "   Column   |         Type          | Collation | Nullable | Default \n",
      "------------+-----------------------+-----------+----------+---------\n",
      " tid        | character varying(10) |           | not null | \n",
      " instructor | character varying(50) |           |          | \n",
      " dept       | character varying(50) |           |          | \n",
      "Indexes:\n",
      "    \"instructor_pkey\" PRIMARY KEY, btree (tid)\n",
      "Referenced by:\n",
      "    TABLE \"college.teaches\" CONSTRAINT \"teaches_tid_fkey\" FOREIGN KEY (tid) REFERENCES college.instructor(tid)\n",
      "\n"
     ]
    }
   ],
   "source": [
    "!psql -c \"\\d college.Instructor\""
   ]
  },
  {
   "cell_type": "code",
   "execution_count": 34,
   "metadata": {},
   "outputs": [
    {
     "name": "stdout",
     "output_type": "stream",
     "text": [
      "                     Table \"college.teaches\"\n",
      " Column |         Type          | Collation | Nullable | Default \n",
      "--------+-----------------------+-----------+----------+---------\n",
      " tid    | character varying(10) |           | not null | \n",
      " cno    | character(6)          |           | not null | \n",
      "Indexes:\n",
      "    \"teaches_pkey\" PRIMARY KEY, btree (tid, cno)\n",
      "Foreign-key constraints:\n",
      "    \"teaches_cno_fkey\" FOREIGN KEY (cno) REFERENCES college.class(cno)\n",
      "    \"teaches_tid_fkey\" FOREIGN KEY (tid) REFERENCES college.instructor(tid)\n",
      "\n"
     ]
    }
   ],
   "source": [
    "!psql -c \"\\d college.Teaches\""
   ]
  },
  {
   "cell_type": "code",
   "execution_count": null,
   "metadata": {},
   "outputs": [],
   "source": []
  }
 ],
 "metadata": {
  "environment": {
   "name": "common-cpu.m78",
   "type": "gcloud",
   "uri": "gcr.io/deeplearning-platform-release/base-cpu:m78"
  },
  "kernelspec": {
   "display_name": "Python 3",
   "language": "python",
   "name": "python3"
  },
  "language_info": {
   "codemirror_mode": {
    "name": "ipython",
    "version": 3
   },
   "file_extension": ".py",
   "mimetype": "text/x-python",
   "name": "python",
   "nbconvert_exporter": "python",
   "pygments_lexer": "ipython3",
   "version": "3.7.10"
  }
 },
 "nbformat": 4,
 "nbformat_minor": 4
}
